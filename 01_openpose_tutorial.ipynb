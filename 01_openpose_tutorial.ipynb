{
 "cells": [
  {
   "cell_type": "code",
   "execution_count": null,
   "metadata": {},
   "outputs": [],
   "source": [
    "import sys\n",
    "sys.path.insert(0, './openpose_torch/python')\n",
    "import cv2\n",
    "import model\n",
    "import util\n",
    "from hand import Hand\n",
    "from body import Body\n",
    "import matplotlib.pyplot as plt\n",
    "import copy\n",
    "import numpy as np\n",
    "\n",
    "%matplotlib inline\n",
    "%config InlineBackend.figure_format = 'retina'\n"
   ]
  },
  {
   "cell_type": "code",
   "execution_count": null,
   "metadata": {},
   "outputs": [],
   "source": [
    "# import pretrained model\n",
    "body_estimation = Body('./openpose_torch/model/body_pose_model.pth')\n",
    "hand_estimation = Hand('./openpose_torch/model/hand_pose_model.pth')"
   ]
  },
  {
   "cell_type": "code",
   "execution_count": null,
   "metadata": {},
   "outputs": [],
   "source": [
    "# sample image\n",
    "sample_image = cv2.imread(\"./openpose_torch/images/me.jpeg\")"
   ]
  },
  {
   "cell_type": "code",
   "execution_count": null,
   "metadata": {},
   "outputs": [],
   "source": [
    "# reverse channel(because opencv always does)\n",
    "sample_image_reverse = sample_image[:,:,::-1]\n",
    "\n",
    "# show\n",
    "plt.imshow(sample_image_reverse)"
   ]
  },
  {
   "cell_type": "code",
   "execution_count": null,
   "metadata": {},
   "outputs": [],
   "source": [
    "# body estimation\n",
    "candidate, subset = body_estimation(sample_image)"
   ]
  },
  {
   "cell_type": "code",
   "execution_count": null,
   "metadata": {},
   "outputs": [],
   "source": [
    "canvas = np.zeros(sample_image_reverse.shape)\n",
    "\n",
    "canvas = util.draw_bodypose(canvas, candidate, subset)\n",
    "\n",
    "plt.imshow(canvas[:,:,::-1])"
   ]
  },
  {
   "cell_type": "markdown",
   "metadata": {},
   "source": [
    "write video"
   ]
  },
  {
   "cell_type": "code",
   "execution_count": null,
   "metadata": {},
   "outputs": [],
   "source": [
    "file_name = \"./openpose_torch/images/sample_video.MOV\"\n",
    "\n",
    "video_capture = cv2.VideoCapture()\n",
    "\n",
    "video_capture.open(file_name)\n",
    "\n",
    "fps = video_capture.get(cv2.CAP_PROP_FPS)\n",
    "\n",
    "max_second = 3\n",
    "\n",
    "seconds = 0\n",
    "\n",
    "stick_post_img_list = []\n",
    "\n",
    "while seconds < max_second:\n",
    "    seconds += 1/fps\n",
    "    \n",
    "    has_frames, frame = video_capture.read()\n",
    "    \n",
    "    if not has_frames:\n",
    "        break\n",
    "        \n",
    "    candidate, subset = body_estimation(frame)\n",
    "        \n",
    "    canvas = np.zeros(frame.shape)\n",
    "    \n",
    "    canvas = util.draw_bodypose(canvas, candidate, subset)\n",
    "    \n",
    "    stick_post_img_list.append(canvas)\n",
    "    \n",
    "video_capture.release()"
   ]
  },
  {
   "cell_type": "code",
   "execution_count": null,
   "metadata": {},
   "outputs": [],
   "source": [
    "output_file_name = \"output.avi\"\n",
    "\n",
    "fourcc = cv2.VideoWriter_fourcc('M','J','P','G')\n",
    "# fourcc = cv2.VideoWriter_fourcc('m', 'p', '4', 'v')\n",
    "\n",
    "\n",
    "output_frame_size = frame.shape[:2]\n",
    "\n",
    "video_writer = cv2.VideoWriter(output_file_name, fourcc, fps, output_frame_size, True)\n",
    "\n",
    "for stick_frame in stick_post_img_list:\n",
    "    video_writer.write(stick_frame.astype(\"uint8\"))\n",
    "    \n",
    "video_writer.release()"
   ]
  },
  {
   "cell_type": "code",
   "execution_count": null,
   "metadata": {},
   "outputs": [],
   "source": [
    "video_writer.release()\n",
    "video_writer = None"
   ]
  },
  {
   "cell_type": "code",
   "execution_count": null,
   "metadata": {},
   "outputs": [],
   "source": []
  }
 ],
 "metadata": {
  "kernelspec": {
   "display_name": "py36_torch",
   "language": "python",
   "name": "py36_torch"
  },
  "language_info": {
   "codemirror_mode": {
    "name": "ipython",
    "version": 3
   },
   "file_extension": ".py",
   "mimetype": "text/x-python",
   "name": "python",
   "nbconvert_exporter": "python",
   "pygments_lexer": "ipython3",
   "version": "3.6.9"
  }
 },
 "nbformat": 4,
 "nbformat_minor": 2
}
